{
 "metadata": {
  "language_info": {
   "codemirror_mode": {
    "name": "ipython",
    "version": 3
   },
   "file_extension": ".py",
   "mimetype": "text/x-python",
   "name": "python",
   "nbconvert_exporter": "python",
   "pygments_lexer": "ipython3",
   "version": "3.9.0-final"
  },
  "orig_nbformat": 2,
  "kernelspec": {
   "name": "python3",
   "display_name": "Python 3.9.0 64-bit",
   "metadata": {
    "interpreter": {
     "hash": "c7192cbc191bcb1e11eb24b740d9d922bf147b1b4b27d90b14d37bd8ac6ff684"
    }
   }
  }
 },
 "nbformat": 4,
 "nbformat_minor": 2,
 "cells": [
  {
   "cell_type": "code",
   "execution_count": null,
   "metadata": {},
   "outputs": [],
   "source": [
    "#====================LIST FUNCTIONS ===================\n",
    "#append\n",
    "#clear\n",
    "#copy\n",
    "#count\n",
    "#extends\n",
    "#insert\n",
    "#pop index\n",
    "#remove value\n",
    "#reverse\n",
    "#sort\n",
    "\n"
   ]
  },
  {
   "cell_type": "code",
   "execution_count": null,
   "metadata": {},
   "outputs": [],
   "source": []
  },
  {
   "cell_type": "code",
   "execution_count": null,
   "metadata": {},
   "outputs": [],
   "source": [
    "techs = [\"Python\", \"Html\", \"Css\", \"Javascript\", \"Flask\"]\n",
    "\n",
    "techs"
   ]
  },
  {
   "cell_type": "code",
   "execution_count": null,
   "metadata": {},
   "outputs": [],
   "source": [
    "#============append=======\n",
    "#adding data to a list \n",
    "\n",
    "techs.append(\"MySQL\")\n",
    "techs"
   ]
  },
  {
   "cell_type": "code",
   "execution_count": null,
   "metadata": {},
   "outputs": [],
   "source": [
    "#=================CLEAR TO DELETE ALL ITEMS==================\n",
    "techs.clear()\n",
    "techs"
   ]
  },
  {
   "cell_type": "code",
   "execution_count": null,
   "metadata": {},
   "outputs": [],
   "source": [
    "#======================COPY ITEMS of A LIST===========\n",
    "techs_copy = techs.copy()"
   ]
  },
  {
   "cell_type": "code",
   "execution_count": null,
   "metadata": {},
   "outputs": [],
   "source": [
    "techs_copy"
   ]
  },
  {
   "cell_type": "code",
   "execution_count": null,
   "metadata": {},
   "outputs": [],
   "source": [
    "x = techs"
   ]
  },
  {
   "cell_type": "code",
   "execution_count": null,
   "metadata": {},
   "outputs": [],
   "source": [
    "#=================COUNT ITEM IN LIST\n",
    "techs.count(\"MySQL\")"
   ]
  },
  {
   "cell_type": "code",
   "execution_count": null,
   "metadata": {},
   "outputs": [],
   "source": [
    "#=================EXTENSDS\n",
    "\n",
    "x = [\"BOOTSTAP\"]\n",
    "\n",
    "x.extend(techs)\n",
    "\n",
    "x"
   ]
  },
  {
   "cell_type": "code",
   "execution_count": null,
   "metadata": {},
   "outputs": [],
   "source": [
    "a = [\"A\", \"B\", \"C\"]\n",
    "b = [\"1\",\"2\", \"3\"]\n",
    "a + b"
   ]
  },
  {
   "cell_type": "code",
   "execution_count": null,
   "metadata": {},
   "outputs": [],
   "source": [
    "#=================INSERT ===================\n",
    "techs"
   ]
  },
  {
   "cell_type": "code",
   "execution_count": null,
   "metadata": {},
   "outputs": [],
   "source": [
    "techs.insert(0, \"JQUERY\")"
   ]
  },
  {
   "cell_type": "code",
   "execution_count": null,
   "metadata": {},
   "outputs": [],
   "source": [
    "techs"
   ]
  },
  {
   "cell_type": "code",
   "execution_count": null,
   "metadata": {},
   "outputs": [],
   "source": [
    "#=====================POP\n",
    "\n",
    "techs.pop(0)\n",
    "\n",
    "techs"
   ]
  },
  {
   "cell_type": "code",
   "execution_count": null,
   "metadata": {},
   "outputs": [],
   "source": [
    "#=================REMOVE==========\n",
    "if \"Javascript\" in techs:\n",
    "    techs.remove(\"Javascript\")\n"
   ]
  },
  {
   "cell_type": "code",
   "execution_count": null,
   "metadata": {},
   "outputs": [],
   "source": [
    "techs"
   ]
  },
  {
   "cell_type": "code",
   "execution_count": null,
   "metadata": {},
   "outputs": [],
   "source": [
    "#============REVERSE================\n",
    "techs.reverse()\n",
    "\n",
    "techs"
   ]
  },
  {
   "cell_type": "code",
   "execution_count": null,
   "metadata": {},
   "outputs": [],
   "source": [
    "#=======================SORT=================\n",
    "\n",
    "a = [\"b\", \"a\", \"c\"]\n",
    "b = [1,2,5,4,3]\n",
    "\n",
    "a.sort()\n",
    "b.sort()"
   ]
  },
  {
   "cell_type": "code",
   "execution_count": null,
   "metadata": {},
   "outputs": [],
   "source": [
    "a"
   ]
  },
  {
   "cell_type": "code",
   "execution_count": null,
   "metadata": {},
   "outputs": [],
   "source": [
    "b"
   ]
  },
  {
   "cell_type": "code",
   "execution_count": 7,
   "metadata": {},
   "outputs": [
    {
     "output_type": "execute_result",
     "data": {
      "text/plain": [
       "{'Python': 4, 'Html': 5}"
      ]
     },
     "metadata": {},
     "execution_count": 7
    }
   ],
   "source": [
    "#==================DICT FUNCTIONS==================\n",
    "#clear   .clear()\n",
    "#copy    .copy()   it adds values to a new variable\n",
    "#items   .items()\n",
    "#pop     .pop(\"Key\")\n",
    "#keys    it returns all the keys\n",
    "#values  it returns all the values\n",
    "#get value it is used to data by key, it is same as data[\"key\"]\n",
    "#update key value it is used to add key and values , it is same as data[\"key\"] = val\n",
    "\n",
    "\n",
    "data = {\n",
    "    \"Python\" : 4,\n",
    "    \"Html\" : 5\n",
    "}\n",
    "data"
   ]
  },
  {
   "cell_type": "code",
   "execution_count": null,
   "metadata": {},
   "outputs": [],
   "source": [
    "#===========CLEAR==\n",
    "\n",
    "data.clear()\n",
    "\n",
    "#data = {}\n",
    "data"
   ]
  },
  {
   "cell_type": "code",
   "execution_count": null,
   "metadata": {},
   "outputs": [],
   "source": [
    "data_copy = data.copy()\n",
    "\n",
    "data_copy"
   ]
  },
  {
   "cell_type": "code",
   "execution_count": null,
   "metadata": {},
   "outputs": [],
   "source": [
    "data_copy = data\n",
    "data_copy"
   ]
  },
  {
   "cell_type": "code",
   "execution_count": 20,
   "metadata": {},
   "outputs": [
    {
     "output_type": "execute_result",
     "data": {
      "text/plain": [
       "dict_items([('Python', 4), ('Html', 5), ('CSS', 4), ('Flask', 5)])"
      ]
     },
     "metadata": {},
     "execution_count": 20
    }
   ],
   "source": [
    "data.items()"
   ]
  },
  {
   "cell_type": "code",
   "execution_count": 6,
   "metadata": {},
   "outputs": [
    {
     "output_type": "execute_result",
     "data": {
      "text/plain": [
       "{'Python': 4}"
      ]
     },
     "metadata": {},
     "execution_count": 6
    }
   ],
   "source": [
    "#=================POP (REMOVE ITEMS) =============\n",
    "if \"Html\" in data:\n",
    "    data.pop(\"Html\")\n",
    "\n",
    "data"
   ]
  },
  {
   "cell_type": "code",
   "execution_count": 8,
   "metadata": {},
   "outputs": [
    {
     "output_type": "execute_result",
     "data": {
      "text/plain": [
       "dict_keys(['Python', 'Html'])"
      ]
     },
     "metadata": {},
     "execution_count": 8
    }
   ],
   "source": [
    "#==============KEY============\n",
    "\n",
    "data.keys()"
   ]
  },
  {
   "cell_type": "code",
   "execution_count": 9,
   "metadata": {},
   "outputs": [
    {
     "output_type": "execute_result",
     "data": {
      "text/plain": [
       "dict_values([4, 5])"
      ]
     },
     "metadata": {},
     "execution_count": 9
    }
   ],
   "source": [
    "#=================VALUES===========\n",
    "\n",
    "data.values()"
   ]
  },
  {
   "cell_type": "code",
   "execution_count": 12,
   "metadata": {},
   "outputs": [
    {
     "output_type": "execute_result",
     "data": {
      "text/plain": [
       "4"
      ]
     },
     "metadata": {},
     "execution_count": 12
    }
   ],
   "source": [
    "#=================GET=========\n",
    "\n",
    "data.get(\"Python\")"
   ]
  },
  {
   "cell_type": "code",
   "execution_count": 15,
   "metadata": {},
   "outputs": [
    {
     "output_type": "execute_result",
     "data": {
      "text/plain": [
       "4"
      ]
     },
     "metadata": {},
     "execution_count": 15
    }
   ],
   "source": [
    "data[\"Python\"]"
   ]
  },
  {
   "cell_type": "code",
   "execution_count": 16,
   "metadata": {},
   "outputs": [
    {
     "output_type": "execute_result",
     "data": {
      "text/plain": [
       "{'Python': 4, 'Html': 5}"
      ]
     },
     "metadata": {},
     "execution_count": 16
    }
   ],
   "source": [
    "data"
   ]
  },
  {
   "cell_type": "code",
   "execution_count": 17,
   "metadata": {},
   "outputs": [
    {
     "output_type": "execute_result",
     "data": {
      "text/plain": [
       "{'Python': 4, 'Html': 5, 'CSS': 4}"
      ]
     },
     "metadata": {},
     "execution_count": 17
    }
   ],
   "source": [
    "#==================UPDATE (ADD KEY AND VAL TO DICT)\n",
    "data.update({\"CSS\" : 4})\n",
    "\n",
    "data"
   ]
  },
  {
   "cell_type": "code",
   "execution_count": 18,
   "metadata": {},
   "outputs": [],
   "source": [
    "data[\"Flask\"] = 5"
   ]
  },
  {
   "cell_type": "code",
   "execution_count": 19,
   "metadata": {},
   "outputs": [
    {
     "output_type": "execute_result",
     "data": {
      "text/plain": [
       "{'Python': 4, 'Html': 5, 'CSS': 4, 'Flask': 5}"
      ]
     },
     "metadata": {},
     "execution_count": 19
    }
   ],
   "source": [
    "data"
   ]
  },
  {
   "cell_type": "code",
   "execution_count": 29,
   "metadata": {},
   "outputs": [],
   "source": [
    "#=============IMPLEMENTATIONS========\n",
    "#BOX OFFICE\n",
    "\n",
    "#MOVIES DATABASE\n",
    "\n",
    "movies = {\n",
    "    \"Movie1\" : 40,\n",
    "    \"Movie2\" : 50,\n",
    "    \"Movie3\" : 30\n",
    "}\n"
   ]
  },
  {
   "cell_type": "code",
   "execution_count": 36,
   "metadata": {},
   "outputs": [],
   "source": [
    "#=======CREATE  A FUCTION TO BOOK A SEAT\n",
    "\n",
    "def book_seats():\n",
    "    print(movies)\n",
    "    movie_name = input(\"Please enter movie name\")\n",
    "    seats = input(\"Please enter seats\")\n",
    "\n",
    "    if movie_name in movies:\n",
    "        if movies[movie_name] > 0 and movies[movie_name] - int(seats) > 0:\n",
    "            print(\"YOUR SEATS RESERVED SUCCESSFULLY \", movie_name)\n",
    "            movies[movie_name] =movies[movie_name] - int(seats)\n",
    "            print(movies)\n",
    "\n",
    "        else:\n",
    "            print(\"SEATS NOT AVAILABE IN \", movie_name)\n",
    "    else:\n",
    "       print(movie_name, \" NOT FOUND\")\n",
    "\n",
    "    \n",
    "\n",
    "            \n",
    "    "
   ]
  },
  {
   "cell_type": "code",
   "execution_count": 41,
   "metadata": {},
   "outputs": [
    {
     "output_type": "stream",
     "name": "stdout",
     "text": [
      "{'Movie1': -5, 'Movie2': 50, 'Movie3': 30}\n",
      "SEATS NOT AVAILABE IN  Movie1\n"
     ]
    }
   ],
   "source": [
    "book_seats()"
   ]
  },
  {
   "cell_type": "code",
   "execution_count": null,
   "metadata": {},
   "outputs": [],
   "source": []
  }
 ]
}